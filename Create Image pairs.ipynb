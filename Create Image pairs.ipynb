{
 "cells": [
  {
   "cell_type": "code",
   "execution_count": 1,
   "metadata": {},
   "outputs": [],
   "source": [
    "import os\n",
    "import numpy as np\n",
    "from PIL import Image\n",
    "import copy\n",
    "import pickle"
   ]
  },
  {
   "cell_type": "code",
   "execution_count": 2,
   "metadata": {},
   "outputs": [
    {
     "name": "stdout",
     "output_type": "stream",
     "text": [
      "{1: array([[6.03537488e-05, 2.69179969e-05, 9.28771387e-05, ...,\n",
      "        2.78823231e-06, 3.78060906e-04, 7.20144567e-04]]), 2: array([[6.40833334e-03, 2.01818076e-03, 1.78118343e-04, ...,\n",
      "        2.68819867e-05, 4.46896930e-04, 3.64193419e-04]]), 3: array([[4.12250037e-04, 3.81355553e-04, 4.94044976e-05, ...,\n",
      "        4.84345772e-05, 6.46252511e-04, 1.19746818e-04]]), 4: array([[1.50350405e-04, 1.88538158e-05, 5.56068490e-05, ...,\n",
      "        1.12473192e-05, 5.29548946e-04, 2.15044238e-04]]), 5: array([[1.48100094e-04, 4.68411972e-05, 3.28964730e-05, ...,\n",
      "        5.85897794e-06, 5.41940581e-05, 1.73809101e-04]]), 6: array([[5.96197996e-04, 3.87119139e-04, 9.21455463e-06, ...,\n",
      "        3.80263485e-06, 1.41481093e-04, 2.78760788e-04]]), 7: array([[2.47419154e-04, 6.48256135e-05, 1.71964975e-05, ...,\n",
      "        7.02096831e-06, 8.09318869e-04, 9.48089350e-04]]), 8: array([[2.19689102e-04, 3.94609806e-05, 6.39009578e-04, ...,\n",
      "        3.57697432e-05, 2.37491962e-04, 1.02846096e-04]]), 9: array([[5.82142175e-05, 3.82201528e-05, 6.67964287e-05, ...,\n",
      "        1.32054201e-05, 1.01038714e-04, 3.44952939e-04]]), 10: array([[2.03583384e-03, 7.88221383e-05, 2.92029144e-04, ...,\n",
      "        3.75044157e-05, 1.05454317e-04, 1.41284065e-04]])}\n"
     ]
    }
   ],
   "source": [
    "with open(\"training_dict.pkl\", \"rb\") as f:\n",
    "    training_dict = pickle.load(f)\n",
    "    \n",
    "train_classes = training_dict.keys()\n",
    "X_train = training_dict\n",
    "n_classes = len(train_classes)\n",
    "n_examples = len\n",
    "#print(train_classes)\n",
    "print(X_train)"
   ]
  },
  {
   "cell_type": "code",
   "execution_count": 28,
   "metadata": {},
   "outputs": [
    {
     "name": "stdout",
     "output_type": "stream",
     "text": [
      "2 2 3\n"
     ]
    }
   ],
   "source": [
    "y = np.array([[[1,2,3], [1,2,3]], \n",
    "              [[1,2,3], [1,2,3]]])\n",
    "n_classes, n_examples, feature_length  = y.shape\n",
    "print(n_classes, n_examples, feature_length)"
   ]
  },
  {
   "cell_type": "code",
   "execution_count": null,
   "metadata": {},
   "outputs": [],
   "source": [
    "def get_batch(batch_size,s=\"train\"):\n",
    "    \"\"\"\n",
    "    Create batch of n pairs, half same class, half different class\n",
    "    \"\"\"\n",
    "    if s == 'train':\n",
    "        X = Xtrain\n",
    "        categories = train_classes\n",
    "    else:\n",
    "        X = Xval\n",
    "        categories = val_classes\n",
    "        \n",
    "    n_classes, n_examples, feature_length  = X.shape\n",
    "    \n",
    "    # randomly sample several classes to use in the batch\n",
    "    categories = rng.choice(n_classes,size=(batch_size,),replace=False)\n",
    "    \n",
    "    # initialize 2 empty arrays for the input image batch\n",
    "    pairs=[np.zeros((batch_size, h, w,1)) for i in range(2)]\n",
    "    \n",
    "    # initialize vector for the targets\n",
    "    targets=np.zeros((batch_size,))\n",
    "    \n",
    "    # make one half of it '1's, so 2nd half of batch has same class\n",
    "    targets[batch_size//2:] = 1\n",
    "    for i in range(batch_size):\n",
    "        category = categories[i]\n",
    "        idx_1 = rng.randint(0, n_examples)\n",
    "        pairs[0][i,:,:,:] = X[category, idx_1].reshape(w, h, 1)\n",
    "        idx_2 = rng.randint(0, n_examples)\n",
    "        \n",
    "        # pick images of same class for 1st half, different for 2nd\n",
    "        if i >= batch_size // 2:\n",
    "            category_2 = category  \n",
    "        else: \n",
    "            # add a random number to the category modulo n classes to ensure 2nd image has a different category\n",
    "            category_2 = (category + rng.randint(1,n_classes)) % n_classes\n",
    "        \n",
    "        pairs[1][i,:,:,:] = X[category_2,idx_2].reshape(w, h,1)\n",
    "    \n",
    "    return pairs, targets"
   ]
  }
 ],
 "metadata": {
  "kernelspec": {
   "display_name": "Python 3",
   "language": "python",
   "name": "python3"
  },
  "language_info": {
   "codemirror_mode": {
    "name": "ipython",
    "version": 3
   },
   "file_extension": ".py",
   "mimetype": "text/x-python",
   "name": "python",
   "nbconvert_exporter": "python",
   "pygments_lexer": "ipython3",
   "version": "3.7.3"
  }
 },
 "nbformat": 4,
 "nbformat_minor": 2
}
