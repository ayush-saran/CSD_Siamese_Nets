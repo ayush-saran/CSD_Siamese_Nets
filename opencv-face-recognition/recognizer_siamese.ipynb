{
 "cells": [
  {
   "cell_type": "code",
   "execution_count": 1,
   "metadata": {},
   "outputs": [],
   "source": [
    "import numpy as np\n",
    "import argparse\n",
    "import imutils\n",
    "import pickle\n",
    "import cv2\n",
    "import os"
   ]
  },
  {
   "cell_type": "code",
   "execution_count": 2,
   "metadata": {},
   "outputs": [
    {
     "name": "stdout",
     "output_type": "stream",
     "text": [
      "[INFO] loading face detector...\n"
     ]
    }
   ],
   "source": [
    "# load our serialized face detector from disk\n",
    "print(\"[INFO] loading face detector...\")\n",
    "protoPath = r'C:\\Users\\Om\\CSD-Face-Recognition-system\\opencv-face-recognition\\face_detection_model\\deploy.prototxt'\n",
    "modelPath = r'C:\\Users\\Om\\CSD-Face-Recognition-system\\opencv-face-recognition\\face_detection_model\\res10_300x300_ssd_iter_140000.caffemodel'\n",
    "detector = cv2.dnn.readNetFromCaffe(protoPath, modelPath)"
   ]
  },
  {
   "cell_type": "code",
   "execution_count": 3,
   "metadata": {},
   "outputs": [
    {
     "name": "stdout",
     "output_type": "stream",
     "text": [
      "[INFO] loading face recognizer...\n"
     ]
    }
   ],
   "source": [
    "# load our serialized face embedding model from disk\n",
    "print(\"[INFO] loading face recognizer...\")\n",
    "embedder = cv2.dnn.readNetFromTorch(r'openface_nn4.small2.v1.t7')"
   ]
  },
  {
   "cell_type": "code",
   "execution_count": 4,
   "metadata": {},
   "outputs": [
    {
     "name": "stderr",
     "output_type": "stream",
     "text": [
      "Using TensorFlow backend.\n"
     ]
    }
   ],
   "source": [
    "# load the actual face recognition model along with the label encoder\n",
    "recognizer = pickle.loads(open(r'recognizer_siamese.pickle', \"rb\").read())\n",
    "reference_data = pickle.loads(open('reference_embeddings.pickle', \"rb\").read())\n",
    "#le = pickle.loads(open(r'le.pickle', \"rb\").read())"
   ]
  },
  {
   "cell_type": "code",
   "execution_count": 5,
   "metadata": {},
   "outputs": [],
   "source": [
    "labels=['F01','F02','F03','F04','F05']"
   ]
  },
  {
   "cell_type": "code",
   "execution_count": 6,
   "metadata": {},
   "outputs": [
    {
     "name": "stdout",
     "output_type": "stream",
     "text": [
      "test_image1.jpg\n",
      "test_image10.jpg\n",
      "test_image11.jpg\n",
      "test_image12.jpg\n",
      "test_image13.jpg\n",
      "test_image14.jpg\n",
      "test_image15.jpg\n",
      "test_image16.jpg\n",
      "test_image2.jpg\n",
      "test_image3.jpg\n",
      "test_image4.jpg\n",
      "test_image5.jpg\n",
      "test_image6.jpg\n",
      "test_image7.jpg\n",
      "test_image8.jpg\n",
      "test_image9.jpg\n"
     ]
    }
   ],
   "source": [
    "# construct a blob from the image\n",
    "ltestfolder=os.listdir(r'test_data')\n",
    "max_proba_list=[]\n",
    "label_list=[]\n",
    "max_proba_index_list=[]\n",
    "for images in ltestfolder:\n",
    "    print(images)\n",
    "    image = cv2.imread(r'test_data\\\\'+ images)\n",
    "    image = imutils.resize(image, width=600)\n",
    "    (h, w) = image.shape[:2]\n",
    "    imageBlob = cv2.dnn.blobFromImage(\n",
    "        cv2.resize(image, (300, 300)), 1.0, (300, 300),\n",
    "        (104.0, 177.0, 123.0), swapRB=False, crop=False)\n",
    "\n",
    "    # apply OpenCV's deep learning-based face detector to localize\n",
    "    # faces in the input image\n",
    "    detector.setInput(imageBlob)\n",
    "    detections = detector.forward()\n",
    "    for i in range(0, detections.shape[2]):\n",
    "            # extract the confidence (i.e., probability) associated with the\n",
    "            # prediction\n",
    "            confidence = detections[0, 0, i, 2]\n",
    "\n",
    "            # filter out weak detections\n",
    "            if confidence > 0.3:\n",
    "                # compute the (x, y)-coordinates of the bounding box for the\n",
    "                # face\n",
    "                box = detections[0, 0, i, 3:7] * np.array([w, h, w, h])\n",
    "                (startX, startY, endX, endY) = box.astype(\"int\")\n",
    "\n",
    "                # extract the face ROI\n",
    "                face = image[startY:endY, startX:endX]\n",
    "                (fH, fW) = face.shape[:2]\n",
    "                 \n",
    "                # ensure the face width and height are sufficiently large\n",
    "                if fW < 20 or fH < 20:\n",
    "                    continue\n",
    "\n",
    "                # construct a blob for the face ROI, then pass the blob\n",
    "                # through our face embedding model to obtain the 128-d\n",
    "                # quantification of the face\n",
    "                faceBlob = cv2.dnn.blobFromImage(face, 1.0 / 255, (96, 96),\n",
    "                    (0, 0, 0), swapRB=True, crop=False)\n",
    "                embedder.setInput(faceBlob)\n",
    "                vec = embedder.forward()\n",
    "        \n",
    "    probabilities=[]\n",
    "    for reference in reference_data['embeddings']:\n",
    "        reference_reshape=reference.reshape(1,1,128)\n",
    "        vec_reshape=vec.reshape(1,1,128)\n",
    "        preds = recognizer.predict([vec_reshape,reference_reshape])\n",
    "        probabilities.append(preds)\n",
    "    max_proba_index=np.argmax(probabilities)\n",
    "    max_proba=probabilities[max_proba_index]\n",
    "    label=labels[max_proba_index]\n",
    "    max_proba_index_list.append(max_proba_index)\n",
    "    max_proba_list.append(max_proba)\n",
    "    label_list.append(label) "
   ]
  },
  {
   "cell_type": "code",
   "execution_count": 7,
   "metadata": {},
   "outputs": [
    {
     "name": "stdout",
     "output_type": "stream",
     "text": [
      "['F04', 'F04', 'F04', 'F05', 'F01', 'F04', 'F04', 'F02', 'F04', 'F04', 'F04', 'F03', 'F04', 'F04', 'F04', 'F04']\n"
     ]
    }
   ],
   "source": [
    "print(label_list)"
   ]
  },
  {
   "cell_type": "code",
   "execution_count": null,
   "metadata": {},
   "outputs": [],
   "source": []
  }
 ],
 "metadata": {
  "kernelspec": {
   "display_name": "Python 3",
   "language": "python",
   "name": "python3"
  },
  "language_info": {
   "codemirror_mode": {
    "name": "ipython",
    "version": 3
   },
   "file_extension": ".py",
   "mimetype": "text/x-python",
   "name": "python",
   "nbconvert_exporter": "python",
   "pygments_lexer": "ipython3",
   "version": "3.7.6"
  }
 },
 "nbformat": 4,
 "nbformat_minor": 4
}
