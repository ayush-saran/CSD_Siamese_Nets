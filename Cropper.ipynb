{
 "cells": [
  {
   "cell_type": "code",
   "execution_count": 1,
   "metadata": {},
   "outputs": [],
   "source": [
    "from PIL import Image\n",
    "import cv2\n",
    "import matplotlib.pyplot as plt\n",
    "import numpy as np\n",
    "import os"
   ]
  },
  {
   "cell_type": "code",
   "execution_count": 2,
   "metadata": {},
   "outputs": [],
   "source": [
    "cascade_file_src = \"C:\\\\Users\\\\Om\\\\Desktop\\\\haarcascade_frontalface_default.xml\"\n",
    "faceCascade = cv2.CascadeClassifier(cascade_file_src)"
   ]
  },
  {
   "cell_type": "code",
   "execution_count": 138,
   "metadata": {},
   "outputs": [
    {
     "name": "stdout",
     "output_type": "stream",
     "text": [
      "9\n",
      "9\n",
      "7\n",
      "7\n",
      "8\n",
      "8\n",
      "11\n",
      "11\n",
      "9\n",
      "9\n",
      "8\n",
      "8\n",
      "7\n",
      "7\n",
      "9\n",
      "9\n",
      "9\n",
      "9\n",
      "9\n",
      "9\n"
     ]
    }
   ],
   "source": [
    "inpDir='C:\\\\Users\\\\Om\\\\Desktop\\\\Dataset' #input dataset\n",
    "person = {}\n",
    "linpDir = os.listdir(inpDir) #list all directories in dataset\n",
    "#print(linpDir)\n",
    "personStr= linpDir[9]\n",
    "personFolder = '%s\\\\%s\\\\words' % (inpDir,personStr) #opening words folder\n",
    "lpersonFolder = os.listdir(personFolder)\n",
    "#print(lpersonFolder)\n",
    "wordID= lpersonFolder[0]\n",
    "wordFolder = '%s\\\\%s' % (personFolder,wordID)\n",
    "lwordFolder = os.listdir(wordFolder)\n",
    "#print(lwordFolder)\n",
    "for utterance in lwordFolder:\n",
    "    \n",
    "    utterFolder= '%s\\\\%s' % (wordFolder,utterance) #manually enter index. There is a problem with loop. \n",
    "    lutterFolder = os.listdir(utterFolder)\n",
    "    colourFolder ='%s\\\\%s' % (utterFolder,lutterFolder[0])\n",
    "    lcolourFolder = os.listdir(colourFolder)\n",
    "    print(len(lcolourFolder))\n",
    "    print(len(lcolourFolder))\n",
    "    no_padding= 20 - len(lcolourFolder)\n",
    "    if no_padding>0 :\n",
    "        for i in range(no_padding):\n",
    "            white_colorFolder='%s\\\\white%d.jpg' % (colourFolder,i)\n",
    "            img  = Image.open('C:\\\\Users\\\\Om\\\\Desktop\\\\white.jpg.jpg')\n",
    "            img.save(white_colorFolder)\n",
    "    else:\n",
    "        for j in range(abs(no_padding)):\n",
    "            j = j + 21\n",
    "            colorFolder ='%s\\\\color_0%d.jpg' % (colourFolder,j)\n",
    "            os.remove(colorFolder)\n",
    "    \n",
    "\n",
    "\n",
    "\n",
    "    #for frame in lcolourFolder:\n",
    "     #       image= \"%s\\\\%s\" % (colourFolder,frame)\n",
    "        # load image on gray scale :\n",
    "      #      im = cv2.imread(image)\n",
    "       #     gray = cv2.cvtColor(im, cv2.COLOR_BGR2GRAY)\n",
    "        # detect faces in the image :\n",
    "        #    faces = faceCascade.detectMultiScale(gray, 1.1, 5)\n",
    "        # draw rectangles around the faces :\n",
    "         #   for (x, y, w, h) in faces:\n",
    "          #      cv2.rectangle(im, (x, y), (x+w, y+h), (0, 255, 0), 2)\n",
    "           ##(x, y, w, h) = faces[0]\n",
    "           # center_x = x+w/2\n",
    "           # center_y = y+h/2\n",
    "           # b_dim = min(max(w,h)*1.2,photo.width, photo.height) \n",
    "        #box = (x, y, x+w, y+h)\n",
    "           # box = (center_x-b_dim/2, center_y-b_dim/2, center_x+b_dim/2, center_y+b_dim/2)\n",
    "        # Crop Image\n",
    "           # crpim = photo.crop(box).resize((224,224))\n",
    "           # crpim.save(image)\n",
    "    #print(\"Cropping done\")"
   ]
  },
  {
   "cell_type": "code",
   "execution_count": null,
   "metadata": {},
   "outputs": [],
   "source": []
  }
 ],
 "metadata": {
  "kernelspec": {
   "display_name": "Python 3",
   "language": "python",
   "name": "python3"
  },
  "language_info": {
   "codemirror_mode": {
    "name": "ipython",
    "version": 3
   },
   "file_extension": ".py",
   "mimetype": "text/x-python",
   "name": "python",
   "nbconvert_exporter": "python",
   "pygments_lexer": "ipython3",
   "version": "3.7.6"
  }
 },
 "nbformat": 4,
 "nbformat_minor": 4
}
