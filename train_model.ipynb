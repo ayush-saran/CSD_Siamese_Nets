{
 "cells": [
  {
   "cell_type": "code",
   "execution_count": 1,
   "metadata": {},
   "outputs": [],
   "source": [
    "from sklearn.preprocessing import LabelEncoder\n",
    "from sklearn.svm import SVC\n",
    "import argparse\n",
    "import pickle"
   ]
  },
  {
   "cell_type": "code",
   "execution_count": 2,
   "metadata": {},
   "outputs": [
    {
     "name": "stdout",
     "output_type": "stream",
     "text": [
      "[INFO] loading face embeddings...\n"
     ]
    }
   ],
   "source": [
    "print(\"[INFO] loading face embeddings...\")\n",
    "data = pickle.loads(open('embeddings.pickle', \"rb\").read())"
   ]
  },
  {
   "cell_type": "code",
   "execution_count": 3,
   "metadata": {},
   "outputs": [
    {
     "name": "stderr",
     "output_type": "stream",
     "text": [
      "Using TensorFlow backend.\n",
      "C:\\Users\\Om\\Anaconda3\\envs\\opencv\\lib\\site-packages\\tensorflow\\python\\framework\\dtypes.py:526: FutureWarning: Passing (type, 1) or '1type' as a synonym of type is deprecated; in a future version of numpy, it will be understood as (type, (1,)) / '(1,)type'.\n",
      "  _np_qint8 = np.dtype([(\"qint8\", np.int8, 1)])\n",
      "C:\\Users\\Om\\Anaconda3\\envs\\opencv\\lib\\site-packages\\tensorflow\\python\\framework\\dtypes.py:527: FutureWarning: Passing (type, 1) or '1type' as a synonym of type is deprecated; in a future version of numpy, it will be understood as (type, (1,)) / '(1,)type'.\n",
      "  _np_quint8 = np.dtype([(\"quint8\", np.uint8, 1)])\n",
      "C:\\Users\\Om\\Anaconda3\\envs\\opencv\\lib\\site-packages\\tensorflow\\python\\framework\\dtypes.py:528: FutureWarning: Passing (type, 1) or '1type' as a synonym of type is deprecated; in a future version of numpy, it will be understood as (type, (1,)) / '(1,)type'.\n",
      "  _np_qint16 = np.dtype([(\"qint16\", np.int16, 1)])\n",
      "C:\\Users\\Om\\Anaconda3\\envs\\opencv\\lib\\site-packages\\tensorflow\\python\\framework\\dtypes.py:529: FutureWarning: Passing (type, 1) or '1type' as a synonym of type is deprecated; in a future version of numpy, it will be understood as (type, (1,)) / '(1,)type'.\n",
      "  _np_quint16 = np.dtype([(\"quint16\", np.uint16, 1)])\n",
      "C:\\Users\\Om\\Anaconda3\\envs\\opencv\\lib\\site-packages\\tensorflow\\python\\framework\\dtypes.py:530: FutureWarning: Passing (type, 1) or '1type' as a synonym of type is deprecated; in a future version of numpy, it will be understood as (type, (1,)) / '(1,)type'.\n",
      "  _np_qint32 = np.dtype([(\"qint32\", np.int32, 1)])\n",
      "C:\\Users\\Om\\Anaconda3\\envs\\opencv\\lib\\site-packages\\tensorflow\\python\\framework\\dtypes.py:535: FutureWarning: Passing (type, 1) or '1type' as a synonym of type is deprecated; in a future version of numpy, it will be understood as (type, (1,)) / '(1,)type'.\n",
      "  np_resource = np.dtype([(\"resource\", np.ubyte, 1)])\n"
     ]
    }
   ],
   "source": [
    "from keras.models import Sequential, Model\n",
    "from keras.layers import Input, Dense, Flatten, Dropout, Activation, Lambda, Permute, Reshape\n",
    "from keras import backend as K\n",
    "from keras import optimizers"
   ]
  },
  {
   "cell_type": "code",
   "execution_count": 16,
   "metadata": {},
   "outputs": [
    {
     "name": "stdout",
     "output_type": "stream",
     "text": [
      "Model: \"model_3\"\n",
      "__________________________________________________________________________________________________\n",
      "Layer (type)                    Output Shape         Param #     Connected to                     \n",
      "==================================================================================================\n",
      "input_5 (InputLayer)            (None, 1, 128)       0                                            \n",
      "__________________________________________________________________________________________________\n",
      "input_6 (InputLayer)            (None, 1, 128)       0                                            \n",
      "__________________________________________________________________________________________________\n",
      "sequential_3 (Sequential)       (None, 1, 32)        26848       input_5[0][0]                    \n",
      "                                                                 input_6[0][0]                    \n",
      "__________________________________________________________________________________________________\n",
      "lambda_3 (Lambda)               (None, 1, 32)        0           sequential_3[1][0]               \n",
      "                                                                 sequential_3[2][0]               \n",
      "__________________________________________________________________________________________________\n",
      "dense_12 (Dense)                (None, 1, 1)         33          lambda_3[0][0]                   \n",
      "==================================================================================================\n",
      "Total params: 26,881\n",
      "Trainable params: 26,881\n",
      "Non-trainable params: 0\n",
      "__________________________________________________________________________________________________\n"
     ]
    },
    {
     "name": "stderr",
     "output_type": "stream",
     "text": [
      "C:\\Users\\Om\\Anaconda3\\envs\\opencv\\lib\\site-packages\\ipykernel_launcher.py:12: UserWarning: Update your `Model` call to the Keras 2 API: `Model(inputs=[<tf.Tenso..., outputs=Tensor(\"de...)`\n",
      "  if sys.path[0] == '':\n"
     ]
    }
   ],
   "source": [
    "left_input=Input(shape=(1,128))\n",
    "right_input=Input(shape=(1,128))\n",
    "model=Sequential()\n",
    "model.add(Dense(128))\n",
    "model.add(Dense(64))\n",
    "model.add(Dense(32, activation='sigmoid'))\n",
    "encoded_L=model(left_input)\n",
    "encoded_R=model(right_input)\n",
    "L1_layer=Lambda(lambda tensors:K.abs(tensors[0]-tensors[1]))\n",
    "L1_distance=L1_layer([encoded_L,encoded_R])\n",
    "prediction= Dense(1,activation='sigmoid')(L1_distance)\n",
    "siamese_net=Model(inputs=[left_input,right_input],output=prediction)\n",
    "siamese_net.compile(loss='binary_crossentropy',metrics=['acc'],optimizer='Adam')\n",
    "siamese_net.summary()\n"
   ]
  },
  {
   "cell_type": "markdown",
   "metadata": {},
   "source": [
    "i=0\n",
    "j=0\n",
    "data['embeddings'][i]\n",
    "data['embeddings'][j]\n",
    "data['names'][i]\n",
    "data['names'][j]\n",
    "if equal then y_train[count]=1\n",
    "else y_train[count]=0\n",
    "lets say we choose 50 random pairs\n",
    "left_input,right_input append data['embeddings'][i] and data['embeddings'][j] respectively:\n",
    "    \n",
    "        \n",
    "        "
   ]
  },
  {
   "cell_type": "code",
   "execution_count": 17,
   "metadata": {},
   "outputs": [],
   "source": [
    "from random import randint\n",
    "import numpy as np\n",
    "def random_pair(data):\n",
    "    y_train=np.zeros((50,1))\n",
    "    left_input=[]\n",
    "    right_input=[]\n",
    "    for count in range(50):\n",
    "        left=randint(0,49)\n",
    "        right=randint(0,49)\n",
    "        if(right!=left):\n",
    "            if(data['names'][left]==data['names'][right]):\n",
    "                y_train[count]=1\n",
    "            else:\n",
    "                y_train[count]=0\n",
    "            if count==0:\n",
    "                left_input=data['embeddings'][left]\n",
    "                right_input=data['embeddings'][right]\n",
    "            else:\n",
    "                left_input=np.vstack((left_input,data['embeddings'][left]))\n",
    "                right_input=np.vstack((right_input,data['embeddings'][right]))\n",
    "        else:\n",
    "            count=count-1\n",
    "            continue\n",
    "    return left_input,right_input,y_train"
   ]
  },
  {
   "cell_type": "code",
   "execution_count": null,
   "metadata": {},
   "outputs": [],
   "source": [
    "left_input,right_input,y_train=random_pair(data)"
   ]
  },
  {
   "cell_type": "code",
   "execution_count": 19,
   "metadata": {},
   "outputs": [
    {
     "name": "stdout",
     "output_type": "stream",
     "text": [
      "(50, 1, 128)\n"
     ]
    }
   ],
   "source": [
    "left_input_reshape=left_input.reshape(50,1,128)\n",
    "right_input_reshape=right_input.reshape(50,1,128)"
   ]
  },
  {
   "cell_type": "code",
   "execution_count": 20,
   "metadata": {},
   "outputs": [],
   "source": [
    "y_train_reshape=y_train.reshape(50,1,1)"
   ]
  },
  {
   "cell_type": "code",
   "execution_count": 24,
   "metadata": {},
   "outputs": [
    {
     "name": "stdout",
     "output_type": "stream",
     "text": [
      "Epoch 1/100\n",
      "50/50 [==============================] - 0s 279us/step - loss: 0.6735 - acc: 0.7800\n",
      "Epoch 2/100\n",
      "50/50 [==============================] - 0s 239us/step - loss: 0.6515 - acc: 0.8000\n",
      "Epoch 3/100\n",
      "50/50 [==============================] - 0s 239us/step - loss: 0.6300 - acc: 0.8000\n",
      "Epoch 4/100\n",
      "50/50 [==============================] - 0s 239us/step - loss: 0.6032 - acc: 0.8000\n",
      "Epoch 5/100\n",
      "50/50 [==============================] - 0s 199us/step - loss: 0.5779 - acc: 0.8000\n",
      "Epoch 6/100\n",
      "50/50 [==============================] - 0s 239us/step - loss: 0.5471 - acc: 0.8000\n",
      "Epoch 7/100\n",
      "50/50 [==============================] - 0s 239us/step - loss: 0.5173 - acc: 0.8000\n",
      "Epoch 8/100\n",
      "50/50 [==============================] - 0s 199us/step - loss: 0.4866 - acc: 0.8000\n",
      "Epoch 9/100\n",
      "50/50 [==============================] - 0s 219us/step - loss: 0.4597 - acc: 0.8000\n",
      "Epoch 10/100\n",
      "50/50 [==============================] - 0s 220us/step - loss: 0.4321 - acc: 0.8000\n",
      "Epoch 11/100\n",
      "50/50 [==============================] - 0s 179us/step - loss: 0.4058 - acc: 0.8000\n",
      "Epoch 12/100\n",
      "50/50 [==============================] - 0s 239us/step - loss: 0.3823 - acc: 0.8000\n",
      "Epoch 13/100\n",
      "50/50 [==============================] - 0s 239us/step - loss: 0.3619 - acc: 0.8000\n",
      "Epoch 14/100\n",
      "50/50 [==============================] - 0s 260us/step - loss: 0.3458 - acc: 0.8000\n",
      "Epoch 15/100\n",
      "50/50 [==============================] - 0s 239us/step - loss: 0.3309 - acc: 0.8000\n",
      "Epoch 16/100\n",
      "50/50 [==============================] - 0s 180us/step - loss: 0.3171 - acc: 0.8000\n",
      "Epoch 17/100\n",
      "50/50 [==============================] - 0s 180us/step - loss: 0.3057 - acc: 0.8000\n",
      "Epoch 18/100\n",
      "50/50 [==============================] - 0s 200us/step - loss: 0.2991 - acc: 0.8000\n",
      "Epoch 19/100\n",
      "50/50 [==============================] - 0s 219us/step - loss: 0.2907 - acc: 0.8000\n",
      "Epoch 20/100\n",
      "50/50 [==============================] - 0s 200us/step - loss: 0.2848 - acc: 0.8000\n",
      "Epoch 21/100\n",
      "50/50 [==============================] - 0s 180us/step - loss: 0.2802 - acc: 0.8000\n",
      "Epoch 22/100\n",
      "50/50 [==============================] - 0s 199us/step - loss: 0.2755 - acc: 0.8000\n",
      "Epoch 23/100\n",
      "50/50 [==============================] - 0s 199us/step - loss: 0.2713 - acc: 0.8000\n",
      "Epoch 24/100\n",
      "50/50 [==============================] - 0s 199us/step - loss: 0.2670 - acc: 0.8200\n",
      "Epoch 25/100\n",
      "50/50 [==============================] - 0s 159us/step - loss: 0.2637 - acc: 0.8200\n",
      "Epoch 26/100\n",
      "50/50 [==============================] - 0s 179us/step - loss: 0.2607 - acc: 0.8600\n",
      "Epoch 27/100\n",
      "50/50 [==============================] - 0s 219us/step - loss: 0.2585 - acc: 0.8600\n",
      "Epoch 28/100\n",
      "50/50 [==============================] - 0s 200us/step - loss: 0.2555 - acc: 0.8600\n",
      "Epoch 29/100\n",
      "50/50 [==============================] - 0s 140us/step - loss: 0.2534 - acc: 0.8600\n",
      "Epoch 30/100\n",
      "50/50 [==============================] - 0s 180us/step - loss: 0.2517 - acc: 0.8600\n",
      "Epoch 31/100\n",
      "50/50 [==============================] - 0s 219us/step - loss: 0.2505 - acc: 0.8600\n",
      "Epoch 32/100\n",
      "50/50 [==============================] - 0s 199us/step - loss: 0.2461 - acc: 0.8600\n",
      "Epoch 33/100\n",
      "50/50 [==============================] - 0s 180us/step - loss: 0.2448 - acc: 0.8600\n",
      "Epoch 34/100\n",
      "50/50 [==============================] - 0s 179us/step - loss: 0.2424 - acc: 0.8600\n",
      "Epoch 35/100\n",
      "50/50 [==============================] - 0s 219us/step - loss: 0.2401 - acc: 0.8600\n",
      "Epoch 36/100\n",
      "50/50 [==============================] - 0s 239us/step - loss: 0.2374 - acc: 0.8800\n",
      "Epoch 37/100\n",
      "50/50 [==============================] - 0s 200us/step - loss: 0.2356 - acc: 0.9000\n",
      "Epoch 38/100\n",
      "50/50 [==============================] - 0s 179us/step - loss: 0.2330 - acc: 0.9000\n",
      "Epoch 39/100\n",
      "50/50 [==============================] - 0s 180us/step - loss: 0.2310 - acc: 0.9000\n",
      "Epoch 40/100\n",
      "50/50 [==============================] - 0s 239us/step - loss: 0.2288 - acc: 0.9000\n",
      "Epoch 41/100\n",
      "50/50 [==============================] - 0s 199us/step - loss: 0.2266 - acc: 0.9200\n",
      "Epoch 42/100\n",
      "50/50 [==============================] - 0s 180us/step - loss: 0.2241 - acc: 0.9400\n",
      "Epoch 43/100\n",
      "50/50 [==============================] - 0s 180us/step - loss: 0.2219 - acc: 0.9400\n",
      "Epoch 44/100\n",
      "50/50 [==============================] - 0s 219us/step - loss: 0.2192 - acc: 0.9400\n",
      "Epoch 45/100\n",
      "50/50 [==============================] - 0s 199us/step - loss: 0.2166 - acc: 0.9400\n",
      "Epoch 46/100\n",
      "50/50 [==============================] - 0s 180us/step - loss: 0.2141 - acc: 0.9400\n",
      "Epoch 47/100\n",
      "50/50 [==============================] - 0s 160us/step - loss: 0.2121 - acc: 0.9400\n",
      "Epoch 48/100\n",
      "50/50 [==============================] - 0s 199us/step - loss: 0.2088 - acc: 0.9400\n",
      "Epoch 49/100\n",
      "50/50 [==============================] - 0s 180us/step - loss: 0.2054 - acc: 0.9400\n",
      "Epoch 50/100\n",
      "50/50 [==============================] - 0s 180us/step - loss: 0.2026 - acc: 0.9600\n",
      "Epoch 51/100\n",
      "50/50 [==============================] - 0s 160us/step - loss: 0.1996 - acc: 0.9600\n",
      "Epoch 52/100\n",
      "50/50 [==============================] - 0s 200us/step - loss: 0.1965 - acc: 0.9800\n",
      "Epoch 53/100\n",
      "50/50 [==============================] - 0s 200us/step - loss: 0.1923 - acc: 0.9800\n",
      "Epoch 54/100\n",
      "50/50 [==============================] - 0s 179us/step - loss: 0.1886 - acc: 0.9800\n",
      "Epoch 55/100\n",
      "50/50 [==============================] - 0s 180us/step - loss: 0.1853 - acc: 0.9800\n",
      "Epoch 56/100\n",
      "50/50 [==============================] - 0s 180us/step - loss: 0.1811 - acc: 0.9800\n",
      "Epoch 57/100\n",
      "50/50 [==============================] - 0s 180us/step - loss: 0.1771 - acc: 0.9800\n",
      "Epoch 58/100\n",
      "50/50 [==============================] - 0s 180us/step - loss: 0.1737 - acc: 0.9600\n",
      "Epoch 59/100\n",
      "50/50 [==============================] - 0s 140us/step - loss: 0.1695 - acc: 0.9600\n",
      "Epoch 60/100\n",
      "50/50 [==============================] - 0s 199us/step - loss: 0.1650 - acc: 0.9800\n",
      "Epoch 61/100\n",
      "50/50 [==============================] - 0s 200us/step - loss: 0.1610 - acc: 0.9800\n",
      "Epoch 62/100\n",
      "50/50 [==============================] - 0s 179us/step - loss: 0.1569 - acc: 1.0000\n",
      "Epoch 63/100\n",
      "50/50 [==============================] - 0s 179us/step - loss: 0.1533 - acc: 1.0000\n",
      "Epoch 64/100\n",
      "50/50 [==============================] - 0s 179us/step - loss: 0.1492 - acc: 1.0000\n",
      "Epoch 65/100\n",
      "50/50 [==============================] - 0s 199us/step - loss: 0.1457 - acc: 1.0000\n",
      "Epoch 66/100\n",
      "50/50 [==============================] - 0s 160us/step - loss: 0.1419 - acc: 1.0000\n",
      "Epoch 67/100\n",
      "50/50 [==============================] - 0s 180us/step - loss: 0.1377 - acc: 1.0000\n",
      "Epoch 68/100\n",
      "50/50 [==============================] - 0s 199us/step - loss: 0.1347 - acc: 1.0000\n",
      "Epoch 69/100\n",
      "50/50 [==============================] - 0s 199us/step - loss: 0.1314 - acc: 1.0000\n",
      "Epoch 70/100\n",
      "50/50 [==============================] - 0s 180us/step - loss: 0.1278 - acc: 1.0000\n",
      "Epoch 71/100\n",
      "50/50 [==============================] - 0s 179us/step - loss: 0.1245 - acc: 1.0000\n",
      "Epoch 72/100\n",
      "50/50 [==============================] - 0s 199us/step - loss: 0.1219 - acc: 1.0000\n",
      "Epoch 73/100\n",
      "50/50 [==============================] - 0s 219us/step - loss: 0.1193 - acc: 1.0000\n",
      "Epoch 74/100\n",
      "50/50 [==============================] - 0s 160us/step - loss: 0.1163 - acc: 1.0000\n",
      "Epoch 75/100\n",
      "50/50 [==============================] - 0s 180us/step - loss: 0.1138 - acc: 1.0000\n",
      "Epoch 76/100\n",
      "50/50 [==============================] - 0s 219us/step - loss: 0.1120 - acc: 1.0000\n",
      "Epoch 77/100\n",
      "50/50 [==============================] - 0s 239us/step - loss: 0.1100 - acc: 1.0000\n",
      "Epoch 78/100\n",
      "50/50 [==============================] - 0s 219us/step - loss: 0.1080 - acc: 1.0000\n",
      "Epoch 79/100\n",
      "50/50 [==============================] - 0s 193us/step - loss: 0.1053 - acc: 1.0000\n",
      "Epoch 80/100\n",
      "50/50 [==============================] - 0s 103us/step - loss: 0.1052 - acc: 1.0000\n",
      "Epoch 81/100\n",
      "50/50 [==============================] - 0s 179us/step - loss: 0.1026 - acc: 1.0000\n",
      "Epoch 82/100\n",
      "50/50 [==============================] - 0s 199us/step - loss: 0.1014 - acc: 1.0000\n",
      "Epoch 83/100\n",
      "50/50 [==============================] - 0s 180us/step - loss: 0.0990 - acc: 1.0000\n",
      "Epoch 84/100\n",
      "50/50 [==============================] - 0s 120us/step - loss: 0.0962 - acc: 1.0000\n",
      "Epoch 85/100\n"
     ]
    },
    {
     "name": "stdout",
     "output_type": "stream",
     "text": [
      "50/50 [==============================] - 0s 224us/step - loss: 0.0972 - acc: 1.0000\n",
      "Epoch 86/100\n",
      "50/50 [==============================] - 0s 200us/step - loss: 0.0957 - acc: 1.0000\n",
      "Epoch 87/100\n",
      "50/50 [==============================] - 0s 139us/step - loss: 0.0940 - acc: 1.0000\n",
      "Epoch 88/100\n",
      "50/50 [==============================] - 0s 180us/step - loss: 0.0933 - acc: 1.0000\n",
      "Epoch 89/100\n",
      "50/50 [==============================] - 0s 179us/step - loss: 0.0895 - acc: 1.0000\n",
      "Epoch 90/100\n",
      "50/50 [==============================] - 0s 139us/step - loss: 0.0907 - acc: 1.0000\n",
      "Epoch 91/100\n",
      "50/50 [==============================] - 0s 179us/step - loss: 0.0894 - acc: 1.0000\n",
      "Epoch 92/100\n",
      "50/50 [==============================] - 0s 199us/step - loss: 0.0845 - acc: 1.0000\n",
      "Epoch 93/100\n",
      "50/50 [==============================] - 0s 199us/step - loss: 0.0850 - acc: 1.0000\n",
      "Epoch 94/100\n",
      "50/50 [==============================] - 0s 160us/step - loss: 0.0823 - acc: 1.0000\n",
      "Epoch 95/100\n",
      "50/50 [==============================] - 0s 219us/step - loss: 0.0817 - acc: 1.0000\n",
      "Epoch 96/100\n",
      "50/50 [==============================] - 0s 199us/step - loss: 0.0812 - acc: 1.0000\n",
      "Epoch 97/100\n",
      "50/50 [==============================] - 0s 140us/step - loss: 0.0776 - acc: 1.0000\n",
      "Epoch 98/100\n",
      "50/50 [==============================] - 0s 186us/step - loss: 0.0775 - acc: 1.0000\n",
      "Epoch 99/100\n",
      "50/50 [==============================] - 0s 255us/step - loss: 0.0742 - acc: 1.0000\n",
      "Epoch 100/100\n",
      "50/50 [==============================] - 0s 180us/step - loss: 0.0733 - acc: 1.0000\n"
     ]
    },
    {
     "data": {
      "text/plain": [
       "<keras.callbacks.callbacks.History at 0x24859510648>"
      ]
     },
     "execution_count": 24,
     "metadata": {},
     "output_type": "execute_result"
    }
   ],
   "source": [
    "EPOCH=100\n",
    "BATCH=20\n",
    "siamese_net.fit([left_input_reshape,right_input_reshape],y_train_reshape,epochs=EPOCH,batch_size=BATCH)"
   ]
  },
  {
   "cell_type": "code",
   "execution_count": 25,
   "metadata": {},
   "outputs": [],
   "source": [
    "# write the actual face recognition model to disk\n",
    "f = open(\"recognizer.pickle\", \"wb\")\n",
    "f.write(pickle.dumps(siamese_net))\n",
    "f.close()"
   ]
  },
  {
   "cell_type": "code",
   "execution_count": null,
   "metadata": {},
   "outputs": [],
   "source": []
  }
 ],
 "metadata": {
  "kernelspec": {
   "display_name": "Python 3",
   "language": "python",
   "name": "python3"
  },
  "language_info": {
   "codemirror_mode": {
    "name": "ipython",
    "version": 3
   },
   "file_extension": ".py",
   "mimetype": "text/x-python",
   "name": "python",
   "nbconvert_exporter": "python",
   "pygments_lexer": "ipython3",
   "version": "3.7.6"
  }
 },
 "nbformat": 4,
 "nbformat_minor": 4
}
